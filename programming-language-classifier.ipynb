{
 "cells": [
  {
   "cell_type": "code",
   "execution_count": 58,
   "metadata": {
    "collapsed": true
   },
   "outputs": [],
   "source": [
    "from sklearn.feature_extraction.text import CountVectorizer\n",
    "from sklearn.feature_extraction.text import TfidfTransformer\n",
    "from sklearn.naive_bayes import MultinomialNB\n",
    "import glob\n",
    "import codecs\n",
    "# from sklearn.cross_validation import train_test_split\n",
    "import pandas as pd\n",
    "from sklearn.pipeline import Pipeline\n",
    "import os"
   ]
  },
  {
   "cell_type": "markdown",
   "metadata": {},
   "source": [
    "# Get the folder and sub_folder list where all the files are found"
   ]
  },
  {
   "cell_type": "code",
   "execution_count": 234,
   "metadata": {
    "collapsed": false
   },
   "outputs": [],
   "source": [
    "def get_folders_list():\n",
    "    paths = os.walk('.')\n",
    "    paths = [x[0] for x in paths]\n",
    "\n",
    "    return [x[2:] for x in paths if './bench/' in x]"
   ]
  },
  {
   "cell_type": "markdown",
   "metadata": {},
   "source": [
    "# File list of all file extentions of the files wanted to be found"
   ]
  },
  {
   "cell_type": "code",
   "execution_count": 235,
   "metadata": {
    "collapsed": false
   },
   "outputs": [],
   "source": [
    "extentions_list = ['gcc', \n",
    "                'c', \n",
    "             'sbcl', \n",
    "          'clojure', \n",
    "          'haskell', \n",
    "             'java', \n",
    "       'javaScript', \n",
    "            'ocaml',\n",
    "             'perl', \n",
    "            'hack' , \n",
    "              'php', \n",
    "          'python3',\n",
    "            'jruby', \n",
    "             'yarv', \n",
    "            'scala', \n",
    "            'racket']"
   ]
  },
  {
   "cell_type": "markdown",
   "metadata": {},
   "source": [
    "# Get all the files names the have extentions in the extentions list"
   ]
  },
  {
   "cell_type": "code",
   "execution_count": 236,
   "metadata": {
    "collapsed": false,
    "scrolled": false
   },
   "outputs": [],
   "source": [
    "def get_files(files_list):\n",
    "    files = []\n",
    "    for sub_folder in get_folders_list():\n",
    "\n",
    "        for file_name in extentions_list:\n",
    "            files.extend(glob.glob(\"{}/*.{}\".format(sub_folder, file_name)))\n",
    "    return files\n"
   ]
  },
  {
   "cell_type": "markdown",
   "metadata": {},
   "source": [
    "# Read the files and put their content in the text list "
   ]
  },
  {
   "cell_type": "code",
   "execution_count": 239,
   "metadata": {
    "collapsed": false,
    "scrolled": false
   },
   "outputs": [],
   "source": [
    "def read_lines():\n",
    "    \n",
    "    texts = []\n",
    "    \n",
    "    for file_x in get_files(files_list):\n",
    "\n",
    "        with open(file_x,encoding=\"ISO-8859-1\") as fdata:\n",
    "            texts.append(fdata.read())\n",
    "    return texts\n",
    "    "
   ]
  },
  {
   "cell_type": "code",
   "execution_count": 240,
   "metadata": {
    "collapsed": true
   },
   "outputs": [],
   "source": [
    "# Geting the Training and test data "
   ]
  },
  {
   "cell_type": "code",
   "execution_count": 241,
   "metadata": {
    "collapsed": false,
    "scrolled": false
   },
   "outputs": [],
   "source": [
    "good_text_train = read_lines()\n",
    "# bad_train = read_lines('nonspam-train')\n",
    "# _test = read_lines('spam-test')\n",
    "# _test = read_lines('nonspam-test')"
   ]
  },
  {
   "cell_type": "markdown",
   "metadata": {},
   "source": [
    "# Creating a pipeline Object"
   ]
  },
  {
   "cell_type": "code",
   "execution_count": 242,
   "metadata": {
    "collapsed": true
   },
   "outputs": [],
   "source": [
    "# #pipeline_map = [('bag_of_words', CountVectorizer()),\n",
    "#                 ('tfidf', TfidfTransformer()),\n",
    "#                 ('bayes', MultinomialNB())]\n",
    "\n",
    "#pipeline = Pipeline(pipeline_map)"
   ]
  },
  {
   "cell_type": "code",
   "execution_count": null,
   "metadata": {
    "collapsed": true
   },
   "outputs": [],
   "source": []
  }
 ],
 "metadata": {
  "kernelspec": {
   "display_name": "Python 3",
   "language": "python",
   "name": "python3"
  },
  "language_info": {
   "codemirror_mode": {
    "name": "ipython",
    "version": 3
   },
   "file_extension": ".py",
   "mimetype": "text/x-python",
   "name": "python",
   "nbconvert_exporter": "python",
   "pygments_lexer": "ipython3",
   "version": "3.5.1"
  }
 },
 "nbformat": 4,
 "nbformat_minor": 0
}
